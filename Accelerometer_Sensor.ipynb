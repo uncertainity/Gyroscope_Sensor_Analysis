{
  "nbformat": 4,
  "nbformat_minor": 0,
  "metadata": {
    "colab": {
      "name": "Accelerometer_Sensor.ipynb",
      "provenance": [],
      "collapsed_sections": [],
      "machine_shape": "hm",
      "authorship_tag": "ABX9TyNLQzBt8pHsyWl1eFZQyve1",
      "include_colab_link": true
    },
    "kernelspec": {
      "name": "python3",
      "display_name": "Python 3"
    },
    "language_info": {
      "name": "python"
    },
    "accelerator": "GPU"
  },
  "cells": [
    {
      "cell_type": "markdown",
      "metadata": {
        "id": "view-in-github",
        "colab_type": "text"
      },
      "source": [
        "<a href=\"https://colab.research.google.com/github/uncertainity/Gyroscope_Sensor_Analysis/blob/main/Accelerometer_Sensor.ipynb\" target=\"_parent\"><img src=\"https://colab.research.google.com/assets/colab-badge.svg\" alt=\"Open In Colab\"/></a>"
      ]
    },
    {
      "cell_type": "code",
      "execution_count": 1,
      "metadata": {
        "id": "Z-G3PLnvgCJ6"
      },
      "outputs": [],
      "source": [
        "import tensorflow as tf\n",
        "from tensorflow.keras.models import Sequential\n",
        "from tensorflow.keras.layers import Dense, Conv1D, MaxPooling1D, Flatten,Conv2D\n",
        "from tensorflow.keras.losses import SparseCategoricalCrossentropy\n",
        "from tensorflow.keras.optimizers import RMSprop\n",
        "import os\n",
        "import numpy as np\n",
        "import matplotlib.pyplot as plt\n",
        "import pandas as pd\n",
        "import tensorflow_probability as tfp\n"
      ]
    },
    {
      "cell_type": "code",
      "source": [
        "tfd = tfp.distributions\n",
        "tfpl = tfp.layers\n"
      ],
      "metadata": {
        "id": "_0-peOPNgEYu"
      },
      "execution_count": 2,
      "outputs": []
    },
    {
      "cell_type": "code",
      "source": [
        "from google.colab import drive\n",
        "drive.mount(\"/content/drive\")"
      ],
      "metadata": {
        "colab": {
          "base_uri": "https://localhost:8080/"
        },
        "id": "a2gnOzvSgEcE",
        "outputId": "2e27e150-1126-4089-b966-d375eebc2a39"
      },
      "execution_count": 3,
      "outputs": [
        {
          "output_type": "stream",
          "name": "stdout",
          "text": [
            "Mounted at /content/drive\n"
          ]
        }
      ]
    },
    {
      "cell_type": "code",
      "source": [
        "def load_file(filepath):\n",
        "    dataframe = pd.read_csv(filepath,header = None, delim_whitespace = True)\n",
        "    return dataframe.values\n",
        "\n",
        "def load_group(filenames,prefix = \"\"):\n",
        "    loaded = list()\n",
        "    for name in filenames:\n",
        "        data = load_file(prefix + name)\n",
        "        loaded.append(data)\n",
        "    loaded = np.dstack(loaded)\n",
        "    return loaded\n",
        "\n",
        "#total_acc = load_group(filenames,prefix = prefix+ \"Inertial Signals\\\\\")\n",
        "##/content/drive/MyDrive/HAR/test"
      ],
      "metadata": {
        "id": "m224B8vzgMPs"
      },
      "execution_count": 4,
      "outputs": []
    },
    {
      "cell_type": "code",
      "source": [
        "def load_dataset(group,prefix = \"\"):\n",
        "    filenames = list()\n",
        "    filepath = prefix + group +   \"/Inertial Signals/\"\n",
        "    filenames += [\"total_acc_x_\" +group + \".txt\",\"total_acc_y_\" + group + \".txt\",\"total_acc_z_\" + group + \".txt\"]\n",
        "    filenames += [\"body_gyro_x_\" + group + \".txt\",\"body_gyro_y_\" + group + \".txt\",\"body_gyro_z_\" + group + \".txt\"]\n",
        "    filenames += [\"body_acc_x_\" + group + \".txt\",\"body_acc_y_\"+ group + \".txt\",\"body_acc_z_\" + group + \".txt\"]\n",
        "    x = load_group(filenames,prefix = filepath)\n",
        "    y = load_file(prefix + group + \"/y_\" + group + \".txt\") - 1\n",
        "    z = load_file(prefix + group + \"/X_\" + group + \".txt\")\n",
        "    return z,x,y"
      ],
      "metadata": {
        "id": "9887jxfkgMRz"
      },
      "execution_count": 5,
      "outputs": []
    },
    {
      "cell_type": "code",
      "source": [
        "filenames = [\"total_acc_x_train.txt\",\"total_acc_y_train.txt\",\"total_acc_z_train.txt\"]\n",
        "prefix = \"/content/drive/MyDrive/HAR/\"\n",
        "z_train,x_train,y_train = load_dataset(\"train\",prefix = prefix)\n",
        "z_test,x_test,y_test = load_dataset(\"test\",prefix = prefix)\n",
        "\n",
        "\n",
        "print(\"training set dim:\",(x_train.shape,y_train.shape))\n",
        "print(\"testing set dim:\",(x_test.shape,y_test.shape))\n"
      ],
      "metadata": {
        "colab": {
          "base_uri": "https://localhost:8080/"
        },
        "id": "A5h2sYhAgMT9",
        "outputId": "b5daa63b-87f2-4cba-93f1-d7536aa6293c"
      },
      "execution_count": 6,
      "outputs": [
        {
          "output_type": "stream",
          "name": "stdout",
          "text": [
            "training set dim: ((7352, 128, 9), (7352, 1))\n",
            "testing set dim: ((2947, 128, 9), (2947, 1))\n"
          ]
        }
      ]
    },
    {
      "cell_type": "code",
      "source": [
        "def integer_to_onehot(data_integer):\n",
        "    one_hot = tf.one_hot(data_integer,6).numpy()\n",
        "    return np.squeeze(one_hot,axis = 1)\n",
        "    \n",
        "    "
      ],
      "metadata": {
        "id": "D2G4NeujhJPR"
      },
      "execution_count": 7,
      "outputs": []
    },
    {
      "cell_type": "code",
      "source": [
        "y_test_oh = integer_to_onehot(y_test)\n",
        "y_train_oh = integer_to_onehot(y_train)"
      ],
      "metadata": {
        "id": "YQNQfoULhJRn"
      },
      "execution_count": 8,
      "outputs": []
    },
    {
      "cell_type": "code",
      "source": [
        "label_to_activity = {0: 'walking horizontally', 1: 'walking upstairs', 2: 'walking downstairs',\n",
        "                     3: 'sitting', 4: 'standing', 5: 'laying'}\n",
        "def make_plots(num_examples_per_category):\n",
        "    for label in range(6):\n",
        "        x_label = x_train[y_train[:, 0] == label]\n",
        "        for i in range(num_examples_per_category):\n",
        "            fig, ax = plt.subplots(figsize=(10, 1))\n",
        "            ax.imshow(x_label[100*i].T, cmap='Greys', vmin=-1, vmax=1)\n",
        "            ax.axis('off')\n",
        "            if i == 0:\n",
        "                ax.set_title(label_to_activity[label])\n",
        "            print(\"Example No:\",i)\n",
        "            plt.show()\n",
        "        \n",
        "make_plots(5)"
      ],
      "metadata": {
        "colab": {
          "base_uri": "https://localhost:8080/",
          "height": 1000
        },
        "id": "EJN2O7XVgMXa",
        "outputId": "73261a5c-635f-4814-e7d3-971f5b3be756"
      },
      "execution_count": 9,
      "outputs": [
        {
          "output_type": "stream",
          "name": "stdout",
          "text": [
            "Example No: 0\n"
          ]
        },
        {
          "output_type": "display_data",
          "data": {
            "text/plain": [
              "<Figure size 720x72 with 1 Axes>"
            ],
            "image/png": "[encoded data removed]"
          },
          "metadata": {
            "needs_background": "light"
          }
        },
        {
          "output_type": "stream",
          "name": "stdout",
          "text": [
            "Example No: 1\n"
          ]
        },
        {
          "output_type": "display_data",
          "data": {
            "text/plain": [
              "<Figure size 720x72 with 1 Axes>"
            ],
            "image/png": "[encoded data removed]"
          },
          "metadata": {
            "needs_background": "light"
          }
        },
        {
          "output_type": "stream",
          "name": "stdout",
          "text": [
            "Example No: 2\n"
          ]
        },
        {
          "output_type": "display_data",
          "data": {
            "text/plain": [
              "<Figure size 720x72 with 1 Axes>"
            ],
            "image/png": "[encoded data removed]"
          },
          "metadata": {
            "needs_background": "light"
          }
        },
        {
          "output_type": "stream",
          "name": "stdout",
          "text": [
            "Example No: 3\n"
          ]
        },
        {
          "output_type": "display_data",
          "data": {
            "text/plain": [
              "<Figure size 720x72 with 1 Axes>"
            ],
            "image/png": "[encoded data removed]"
          },
          "metadata": {
            "needs_background": "light"
          }
        },
        {
          "output_type": "stream",
          "name": "stdout",
          "text": [
            "Example No: 4\n"
          ]
        },
        {
          "output_type": "display_data",
          "data": {
            "text/plain": [
              "<Figure size 720x72 with 1 Axes>"
            ],
            "image/png": "[encoded data removed]"
          },
          "metadata": {
            "needs_background": "light"
          }
        },
        {
          "output_type": "stream",
          "name": "stdout",
          "text": [
            "Example No: 0\n"
          ]
        },
        {
          "output_type": "display_data",
          "data": {
            "text/plain": [
              "<Figure size 720x72 with 1 Axes>"
            ],
            "image/png": "[encoded data removed]"
          },
          "metadata": {
            "needs_background": "light"
          }
        },
        {
          "output_type": "stream",
          "name": "stdout",
          "text": [
            "Example No: 1\n"
          ]
        },
        {
          "output_type": "display_data",
          "data": {
            "text/plain": [
              "<Figure size 720x72 with 1 Axes>"
            ],
            "image/png": "[encoded data removed]"
          },
          "metadata": {
            "needs_background": "light"
          }
        },
        {
          "output_type": "stream",
          "name": "stdout",
          "text": [
            "Example No: 2\n"
          ]
        },
        {
          "output_type": "display_data",
          "data": {
            "text/plain": [
              "<Figure size 720x72 with 1 Axes>"
            ],
            "image/png": "[encoded data removed]"
          },
          "metadata": {
            "needs_background": "light"
          }
        },
        {
          "output_type": "stream",
          "name": "stdout",
          "text": [
            "Example No: 3\n"
          ]
        },
        {
          "output_type": "display_data",
          "data": {
            "text/plain": [
              "<Figure size 720x72 with 1 Axes>"
            ],
            "image/png": "[encoded data removed]"
          },
          "metadata": {
            "needs_background": "light"
          }
        },
        {
          "output_type": "stream",
          "name": "stdout",
          "text": [
            "Example No: 4\n"
          ]
        },
        {
          "output_type": "display_data",
          "data": {
            "text/plain": [
              "<Figure size 720x72 with 1 Axes>"
            ],
            "image/png": "[encoded data removed]"
          },
          "metadata": {
            "needs_background": "light"
          }
        },
        {
          "output_type": "stream",
          "name": "stdout",
          "text": [
            "Example No: 0\n"
          ]
        },
        {
          "output_type": "display_data",
          "data": {
            "text/plain": [
              "<Figure size 720x72 with 1 Axes>"
            ],
            "image/png": "[encoded data removed]"
          },
          "metadata": {
            "needs_background": "light"
          }
        },
        {
          "output_type": "stream",
          "name": "stdout",
          "text": [
            "Example No: 1\n"
          ]
        },
        {
          "output_type": "display_data",
          "data": {
            "text/plain": [
              "<Figure size 720x72 with 1 Axes>"
            ],
            "image/png": "[encoded data removed]"
          },
          "metadata": {
            "needs_background": "light"
          }
        },
        {
          "output_type": "stream",
          "name": "stdout",
          "text": [
            "Example No: 2\n"
          ]
        },
        {
          "output_type": "display_data",
          "data": {
            "text/plain": [
              "<Figure size 720x72 with 1 Axes>"
            ],
            "image/png": "[encoded data removed]"
          },
          "metadata": {
            "needs_background": "light"
          }
        },
        {
          "output_type": "stream",
          "name": "stdout",
          "text": [
            "Example No: 3\n"
          ]
        },
        {
          "output_type": "display_data",
          "data": {
            "text/plain": [
              "<Figure size 720x72 with 1 Axes>"
            ],
            "image/png": "[encoded data removed]"
          },
          "metadata": {
            "needs_background": "light"
          }
        },
        {
          "output_type": "stream",
          "name": "stdout",
          "text": [
            "Example No: 4\n"
          ]
        },
        {
          "output_type": "display_data",
          "data": {
            "text/plain": [
              "<Figure size 720x72 with 1 Axes>"
            ],
            "image/png": "[encoded data removed]"
          },
          "metadata": {
            "needs_background": "light"
          }
        },
        {
          "output_type": "stream",
          "name": "stdout",
          "text": [
            "Example No: 0\n"
          ]
        },
        {
          "output_type": "display_data",
          "data": {
            "text/plain": [
              "<Figure size 720x72 with 1 Axes>"
            ],
            "image/png": "[encoded data removed]"
          },
          "metadata": {
            "needs_background": "light"
          }
        },
        {
          "output_type": "stream",
          "name": "stdout",
          "text": [
            "Example No: 1\n"
          ]
        },
        {
          "output_type": "display_data",
          "data": {
            "text/plain": [
              "<Figure size 720x72 with 1 Axes>"
            ],
            "image/png": "[encoded data removed]"
          },
          "metadata": {
            "needs_background": "light"
          }
        },
        {
          "output_type": "stream",
          "name": "stdout",
          "text": [
            "Example No: 2\n"
          ]
        },
        {
          "output_type": "display_data",
          "data": {
            "text/plain": [
              "<Figure size 720x72 with 1 Axes>"
            ],
            "image/png": "[encoded data removed]"
          },
          "metadata": {
            "needs_background": "light"
          }
        },
        {
          "output_type": "stream",
          "name": "stdout",
          "text": [
            "Example No: 3\n"
          ]
        },
        {
          "output_type": "display_data",
          "data": {
            "text/plain": [
              "<Figure size 720x72 with 1 Axes>"
            ],
            "image/png": "[encoded data removed]"
          },
          "metadata": {
            "needs_background": "light"
          }
        },
        {
          "output_type": "stream",
          "name": "stdout",
          "text": [
            "Example No: 4\n"
          ]
        },
        {
          "output_type": "display_data",
          "data": {
            "text/plain": [
              "<Figure size 720x72 with 1 Axes>"
            ],
            "image/png": "[encoded data removed]"
          },
          "metadata": {
            "needs_background": "light"
          }
        },
        {
          "output_type": "stream",
          "name": "stdout",
          "text": [
            "Example No: 0\n"
          ]
        },
        {
          "output_type": "display_data",
          "data": {
            "text/plain": [
              "<Figure size 720x72 with 1 Axes>"
            ],
            "image/png": "[encoded data removed]"
          },
          "metadata": {
            "needs_background": "light"
          }
        },
        {
          "output_type": "stream",
          "name": "stdout",
          "text": [
            "Example No: 1\n"
          ]
        },
        {
          "output_type": "display_data",
          "data": {
            "text/plain": [
              "<Figure size 720x72 with 1 Axes>"
            ],
            "image/png": "[encoded data removed]"
          },
          "metadata": {
            "needs_background": "light"
          }
        },
        {
          "output_type": "stream",
          "name": "stdout",
          "text": [
            "Example No: 2\n"
          ]
        },
        {
          "output_type": "display_data",
          "data": {
            "text/plain": [
              "<Figure size 720x72 with 1 Axes>"
            ],
            "image/png": "[encoded data removed]"
          },
          "metadata": {
            "needs_background": "light"
          }
        },
        {
          "output_type": "stream",
          "name": "stdout",
          "text": [
            "Example No: 3\n"
          ]
        },
        {
          "output_type": "display_data",
          "data": {
            "text/plain": [
              "<Figure size 720x72 with 1 Axes>"
            ],
            "image/png": "[encoded data removed]"
          },
          "metadata": {
            "needs_background": "light"
          }
        },
        {
          "output_type": "stream",
          "name": "stdout",
          "text": [
            "Example No: 4\n"
          ]
        },
        {
          "output_type": "display_data",
          "data": {
            "text/plain": [
              "<Figure size 720x72 with 1 Axes>"
            ],
            "image/png": "[encoded data removed]"
          },
          "metadata": {
            "needs_background": "light"
          }
        },
        {
          "output_type": "stream",
          "name": "stdout",
          "text": [
            "Example No: 0\n"
          ]
        },
        {
          "output_type": "display_data",
          "data": {
            "text/plain": [
              "<Figure size 720x72 with 1 Axes>"
            ],
            "image/png": "[encoded data removed]"
          },
          "metadata": {
            "needs_background": "light"
          }
        },
        {
          "output_type": "stream",
          "name": "stdout",
          "text": [
            "Example No: 1\n"
          ]
        },
        {
          "output_type": "display_data",
          "data": {
            "text/plain": [
              "<Figure size 720x72 with 1 Axes>"
            ],
            "image/png": "[encoded data removed]"
          },
          "metadata": {
            "needs_background": "light"
          }
        },
        {
          "output_type": "stream",
          "name": "stdout",
          "text": [
            "Example No: 2\n"
          ]
        },
        {
          "output_type": "display_data",
          "data": {
            "text/plain": [
              "<Figure size 720x72 with 1 Axes>"
            ],
            "image/png": "[encoded data removed]"
          },
          "metadata": {
            "needs_background": "light"
          }
        },
        {
          "output_type": "stream",
          "name": "stdout",
          "text": [
            "Example No: 3\n"
          ]
        },
        {
          "output_type": "display_data",
          "data": {
            "text/plain": [
              "<Figure size 720x72 with 1 Axes>"
            ],
            "image/png": "[encoded data removed]"
          },
          "metadata": {
            "needs_background": "light"
          }
        },
        {
          "output_type": "stream",
          "name": "stdout",
          "text": [
            "Example No: 4\n"
          ]
        },
        {
          "output_type": "display_data",
          "data": {
            "text/plain": [
              "<Figure size 720x72 with 1 Axes>"
            ],
            "image/png": "[encoded data removed]"
          },
          "metadata": {
            "needs_background": "light"
          }
        }
      ]
    },
    {
      "cell_type": "code",
      "source": [
        "model1 = Sequential([\n",
        "                    Conv1D(input_shape = (128,9),filters = 8, kernel_size = 16,activation = \"relu\"),\n",
        "                    MaxPooling1D(pool_size = 16),\n",
        "                    Flatten(),\n",
        "                    Dense(units = 6,activation = \"softmax\")\n",
        "])\n",
        "model1.summary()"
      ],
      "metadata": {
        "colab": {
          "base_uri": "https://localhost:8080/"
        },
        "id": "D3nDz5o5hN2d",
        "outputId": "44eefade-34f5-400a-cfc2-8cd003aa47ae"
      },
      "execution_count": 10,
      "outputs": [
        {
          "output_type": "stream",
          "name": "stdout",
          "text": [
            "Model: \"sequential\"\n",
            "_________________________________________________________________\n",
            " Layer (type)                Output Shape              Param #   \n",
            "=================================================================\n",
            " conv1d (Conv1D)             (None, 113, 8)            1160      \n",
            "                                                                 \n",
            " max_pooling1d (MaxPooling1D  (None, 7, 8)             0         \n",
            " )                                                               \n",
            "                                                                 \n",
            " flatten (Flatten)           (None, 56)                0         \n",
            "                                                                 \n",
            " dense (Dense)               (None, 6)                 342       \n",
            "                                                                 \n",
            "=================================================================\n",
            "Total params: 1,502\n",
            "Trainable params: 1,502\n",
            "Non-trainable params: 0\n",
            "_________________________________________________________________\n"
          ]
        }
      ]
    },
    {
      "cell_type": "code",
      "source": [
        "divergence_fn = lambda q,p,_:tfd.kl_divergence(q,p)/x_train.shape[0]\n",
        "model = Sequential([\n",
        "                    tfpl.Convolution1DReparameterization(input_shape = (128,9),filters = 8, kernel_size =16,activation = \"relu\",\n",
        "                    kernel_prior_fn = tfpl.default_multivariate_normal_fn, \n",
        "                    kernel_posterior_fn = tfpl.default_mean_field_normal_fn(is_singular = False),\n",
        "                    kernel_divergence_fn = divergence_fn,\n",
        "                    bias_prior_fn = tfpl.default_multivariate_normal_fn,\n",
        "                    bias_posterior_fn = tfpl.default_mean_field_normal_fn(is_singular = False),\n",
        "                    bias_divergence_fn = divergence_fn),\n",
        "                    MaxPooling1D (pool_size = 16),\n",
        "                    Flatten(),\n",
        "                    tfpl.DenseReparameterization(units = tfpl.OneHotCategorical.params_size(6),activation = None,\n",
        "                                                kernel_prior_fn = tfpl.default_multivariate_normal_fn,\n",
        "                                                kernel_posterior_fn = tfpl.default_mean_field_normal_fn(is_singular = False),\n",
        "                                                kernel_divergence_fn  = divergence_fn,\n",
        "                                                bias_prior_fn = tfpl.default_multivariate_normal_fn,\n",
        "                                                bias_posterior_fn = tfpl.default_mean_field_normal_fn(is_singular = False),\n",
        "                                                bias_divergence_fn  = divergence_fn),\n",
        "                    tfpl.OneHotCategorical(6)\n",
        "                    \n",
        "])\n",
        "model.summary()\n"
      ],
      "metadata": {
        "colab": {
          "base_uri": "https://localhost:8080/"
        },
        "id": "NU8fJzV7hN4t",
        "outputId": "474bda56-f483-48b6-c48e-faa864b29701"
      },
      "execution_count": 11,
      "outputs": [
        {
          "output_type": "stream",
          "name": "stderr",
          "text": [
            "/usr/local/lib/python3.7/dist-packages/tensorflow_probability/python/layers/util.py:102: UserWarning: `layer.add_variable` is deprecated and will be removed in a future version. Please use `layer.add_weight` method instead.\n",
            "  trainable=trainable)\n",
            "/usr/local/lib/python3.7/dist-packages/tensorflow_probability/python/layers/util.py:112: UserWarning: `layer.add_variable` is deprecated and will be removed in a future version. Please use `layer.add_weight` method instead.\n",
            "  trainable=trainable)\n"
          ]
        },
        {
          "output_type": "stream",
          "name": "stdout",
          "text": [
            "Model: \"sequential_1\"\n",
            "_________________________________________________________________\n",
            " Layer (type)                Output Shape              Param #   \n",
            "=================================================================\n",
            " conv1d_reparameterization (  (None, 113, 8)           2320      \n",
            " Conv1DReparameterization)                                       \n",
            "                                                                 \n",
            " max_pooling1d_1 (MaxPooling  (None, 7, 8)             0         \n",
            " 1D)                                                             \n",
            "                                                                 \n",
            " flatten_1 (Flatten)         (None, 56)                0         \n",
            "                                                                 \n",
            " dense_reparameterization (D  (None, 6)                684       \n",
            " enseReparameterization)                                         \n",
            "                                                                 \n",
            " one_hot_categorical (OneHot  ((None, 6),              0         \n",
            " Categorical)                 (None, 6))                         \n",
            "                                                                 \n",
            "=================================================================\n",
            "Total params: 3,004\n",
            "Trainable params: 3,004\n",
            "Non-trainable params: 0\n",
            "_________________________________________________________________\n"
          ]
        }
      ]
    },
    {
      "cell_type": "code",
      "source": [
        "def nll(y_true,y_pred):\n",
        "    return -y_pred.log_prob(y_true)\n",
        "\n",
        "model.compile(loss = nll,optimizer = RMSprop(learning_rate = 0.005),metrics = [\"accuracy\"])\n"
      ],
      "metadata": {
        "id": "uTJ8XG9LhN66"
      },
      "execution_count": 12,
      "outputs": []
    },
    {
      "cell_type": "code",
      "source": [
        "\n",
        "history = model.fit(x_train, y_train_oh, validation_split = 0.2,epochs=50, verbose=False)\n",
        "\n",
        "plt.plot(history.history[\"accuracy\"])\n",
        "plt.plot(history.history[\"val_accuracy\"])\n",
        "plt.title(\"Model Accuracy\")\n",
        "plt.ylabel(\"Accuracy\")\n",
        "plt.xlabel(\"Epoch\")\n",
        "plt.legend(['train', 'test'], loc='upper left')\n",
        "plt.show()\n",
        "\n"
      ],
      "metadata": {
        "colab": {
          "base_uri": "https://localhost:8080/",
          "height": 295
        },
        "id": "uo22VnMwhN9c",
        "outputId": "5d8fed6b-3e3f-4857-ae87-eb70efd9e3b3"
      },
      "execution_count": 13,
      "outputs": [
        {
          "output_type": "display_data",
          "data": {
            "text/plain": [
              "<Figure size 432x288 with 1 Axes>"
            ],
            "image/png": "[encoded data removed]"
          },
          "metadata": {
            "needs_background": "light"
          }
        }
      ]
    },
    {
      "cell_type": "code",
      "source": [
        "model.evaluate(x_train, y_train_oh)\n",
        "model.evaluate(x_test, y_test_oh)"
      ],
      "metadata": {
        "colab": {
          "base_uri": "https://localhost:8080/"
        },
        "id": "DYqoq4nkhYB5",
        "outputId": "7fce7714-9cdb-4399-de63-1678159b406e"
      },
      "execution_count": 14,
      "outputs": [
        {
          "output_type": "stream",
          "name": "stdout",
          "text": [
            "230/230 [==============================] - 1s 3ms/step - loss: 0.4173 - accuracy: 0.9117\n",
            "93/93 [==============================] - 0s 3ms/step - loss: 1.1255 - accuracy: 0.8673\n"
          ]
        },
        {
          "output_type": "execute_result",
          "data": {
            "text/plain": [
              "[1.1255295276641846, 0.8673226833343506]"
            ]
          },
          "metadata": {},
          "execution_count": 14
        }
      ]
    },
    {
      "cell_type": "code",
      "source": [
        "def analyse_model_predictions(image_num):\n",
        "\n",
        "    # Show the accelerometer data\n",
        "    print('------------------------------')\n",
        "    print('Accelerometer data:')\n",
        "    fig, ax = plt.subplots(figsize=(10, 1))\n",
        "    ax.imshow(x_test[image_num].T, cmap='Greys', vmin=-1, vmax=1)\n",
        "    ax.axis('off')\n",
        "    plt.show()\n",
        "\n",
        "    # Print the true activity\n",
        "    print('------------------------------')\n",
        "    print('True activity:', label_to_activity[y_test[image_num, 0]])\n",
        "    print('')\n",
        "\n",
        "    # Print the probabilities the model assigns\n",
        "    print('------------------------------')\n",
        "    print('Model estimated probabilities:')\n",
        "    # Create ensemble of predicted probabilities\n",
        "    predicted_probabilities = np.empty(shape=(200, 6))\n",
        "    for i in range(200):\n",
        "        predicted_probabilities[i] = model(x_test[image_num][np.newaxis, ...]).mean().numpy()[0]\n",
        "    pct_2p5 = np.array([np.percentile(predicted_probabilities[:, i], 2.5) for i in range(6)])\n",
        "    pct_97p5 = np.array([np.percentile(predicted_probabilities[:, i], 97.5) for i in range(6)])\n",
        "    # Make the plots\n",
        "    fig, ax = plt.subplots(figsize=(9, 3))\n",
        "    bar = ax.bar(np.arange(6), pct_97p5, color='red')\n",
        "    bar[y_test[image_num, 0]].set_color('green')\n",
        "    bar = ax.bar(np.arange(6), pct_2p5-0.02, color='white', linewidth=1, edgecolor='white')\n",
        "    ax.set_xticklabels([''] + [activity for activity in label_to_activity.values()],\n",
        "                       rotation=45, horizontalalignment='right')\n",
        "    ax.set_ylim([0, 1])\n",
        "    ax.set_ylabel('Probability')\n",
        "    plt.show()"
      ],
      "metadata": {
        "id": "hi-BfAAHhYET"
      },
      "execution_count": 15,
      "outputs": []
    },
    {
      "cell_type": "code",
      "source": [
        "analyse_model_predictions(image_num = 79)"
      ],
      "metadata": {
        "colab": {
          "base_uri": "https://localhost:8080/",
          "height": 458
        },
        "id": "PfrkidENhYGZ",
        "outputId": "438c90b9-9b48-48f3-8e92-b446e24b86ea"
      },
      "execution_count": 16,
      "outputs": [
        {
          "output_type": "stream",
          "name": "stdout",
          "text": [
            "------------------------------\n",
            "Accelerometer data:\n"
          ]
        },
        {
          "output_type": "display_data",
          "data": {
            "text/plain": [
              "<Figure size 720x72 with 1 Axes>"
            ],
            "image/png": "[encoded data removed]"
          },
          "metadata": {
            "needs_background": "light"
          }
        },
        {
          "output_type": "stream",
          "name": "stdout",
          "text": [
            "------------------------------\n",
            "True activity: walking horizontally\n",
            "\n",
            "------------------------------\n",
            "Model estimated probabilities:\n"
          ]
        },
        {
          "output_type": "display_data",
          "data": {
            "text/plain": [
              "<Figure size 648x216 with 1 Axes>"
            ],
            "image/png": "[encoded data removed]"
          },
          "metadata": {
            "needs_background": "light"
          }
        }
      ]
    }
  ]
}